{
 "cells": [
  {
   "cell_type": "markdown",
   "id": "ec58b37e",
   "metadata": {},
   "source": [
    "## Exploratory Data Analysis on Car Sales"
   ]
  },
  {
   "cell_type": "markdown",
   "id": "78756537",
   "metadata": {},
   "source": [
    "### Importing Libraries"
   ]
  },
  {
   "cell_type": "code",
   "execution_count": 1,
   "id": "004d23ef",
   "metadata": {},
   "outputs": [],
   "source": [
    "import numpy as np\n",
    "import pandas as pd\n",
    "import matplotlib.pyplot as plt\n",
    "import seaborn as sns\n",
    "%matplotlib inline\n",
    "\n",
    "sns.set_style('darkgrid')"
   ]
  },
  {
   "cell_type": "markdown",
   "id": "8a8978c9",
   "metadata": {},
   "source": [
    "### Data Loading"
   ]
  },
  {
   "cell_type": "code",
   "execution_count": 2,
   "id": "5ee8f028",
   "metadata": {},
   "outputs": [],
   "source": [
    "car_df = pd.read_csv('car_sales.csv')"
   ]
  },
  {
   "cell_type": "code",
   "execution_count": 3,
   "id": "b989733f",
   "metadata": {},
   "outputs": [
    {
     "data": {
      "text/html": [
       "<div>\n",
       "<style scoped>\n",
       "    .dataframe tbody tr th:only-of-type {\n",
       "        vertical-align: middle;\n",
       "    }\n",
       "\n",
       "    .dataframe tbody tr th {\n",
       "        vertical-align: top;\n",
       "    }\n",
       "\n",
       "    .dataframe thead th {\n",
       "        text-align: right;\n",
       "    }\n",
       "</style>\n",
       "<table border=\"1\" class=\"dataframe\">\n",
       "  <thead>\n",
       "    <tr style=\"text-align: right;\">\n",
       "      <th></th>\n",
       "      <th>Brand</th>\n",
       "      <th>Price</th>\n",
       "      <th>Body</th>\n",
       "      <th>Mileage</th>\n",
       "      <th>EngineV</th>\n",
       "      <th>Engine Type</th>\n",
       "      <th>Registration</th>\n",
       "      <th>Year</th>\n",
       "      <th>Model</th>\n",
       "    </tr>\n",
       "  </thead>\n",
       "  <tbody>\n",
       "    <tr>\n",
       "      <th>0</th>\n",
       "      <td>BMW</td>\n",
       "      <td>4200.0</td>\n",
       "      <td>sedan</td>\n",
       "      <td>277</td>\n",
       "      <td>2.0</td>\n",
       "      <td>Petrol</td>\n",
       "      <td>yes</td>\n",
       "      <td>1991</td>\n",
       "      <td>320</td>\n",
       "    </tr>\n",
       "    <tr>\n",
       "      <th>1</th>\n",
       "      <td>Mercedes-Benz</td>\n",
       "      <td>7900.0</td>\n",
       "      <td>van</td>\n",
       "      <td>427</td>\n",
       "      <td>2.9</td>\n",
       "      <td>Diesel</td>\n",
       "      <td>yes</td>\n",
       "      <td>1999</td>\n",
       "      <td>Sprinter 212</td>\n",
       "    </tr>\n",
       "    <tr>\n",
       "      <th>2</th>\n",
       "      <td>Mercedes-Benz</td>\n",
       "      <td>13300.0</td>\n",
       "      <td>sedan</td>\n",
       "      <td>358</td>\n",
       "      <td>5.0</td>\n",
       "      <td>Gas</td>\n",
       "      <td>yes</td>\n",
       "      <td>2003</td>\n",
       "      <td>S 500</td>\n",
       "    </tr>\n",
       "    <tr>\n",
       "      <th>3</th>\n",
       "      <td>Audi</td>\n",
       "      <td>23000.0</td>\n",
       "      <td>crossover</td>\n",
       "      <td>240</td>\n",
       "      <td>4.2</td>\n",
       "      <td>Petrol</td>\n",
       "      <td>yes</td>\n",
       "      <td>2007</td>\n",
       "      <td>Q7</td>\n",
       "    </tr>\n",
       "    <tr>\n",
       "      <th>4</th>\n",
       "      <td>Toyota</td>\n",
       "      <td>18300.0</td>\n",
       "      <td>crossover</td>\n",
       "      <td>120</td>\n",
       "      <td>2.0</td>\n",
       "      <td>Petrol</td>\n",
       "      <td>yes</td>\n",
       "      <td>2011</td>\n",
       "      <td>Rav 4</td>\n",
       "    </tr>\n",
       "  </tbody>\n",
       "</table>\n",
       "</div>"
      ],
      "text/plain": [
       "           Brand    Price       Body  Mileage  EngineV Engine Type  \\\n",
       "0            BMW   4200.0      sedan      277      2.0      Petrol   \n",
       "1  Mercedes-Benz   7900.0        van      427      2.9      Diesel   \n",
       "2  Mercedes-Benz  13300.0      sedan      358      5.0         Gas   \n",
       "3           Audi  23000.0  crossover      240      4.2      Petrol   \n",
       "4         Toyota  18300.0  crossover      120      2.0      Petrol   \n",
       "\n",
       "  Registration  Year         Model  \n",
       "0          yes  1991           320  \n",
       "1          yes  1999  Sprinter 212  \n",
       "2          yes  2003         S 500  \n",
       "3          yes  2007            Q7  \n",
       "4          yes  2011         Rav 4  "
      ]
     },
     "execution_count": 3,
     "metadata": {},
     "output_type": "execute_result"
    }
   ],
   "source": [
    "car_df.head()"
   ]
  },
  {
   "cell_type": "markdown",
   "id": "d3974208",
   "metadata": {},
   "source": [
    "### Data Cleaning"
   ]
  },
  {
   "cell_type": "code",
   "execution_count": 4,
   "id": "2cf31958",
   "metadata": {},
   "outputs": [
    {
     "name": "stdout",
     "output_type": "stream",
     "text": [
      "<class 'pandas.core.frame.DataFrame'>\n",
      "RangeIndex: 4345 entries, 0 to 4344\n",
      "Data columns (total 9 columns):\n",
      " #   Column        Non-Null Count  Dtype  \n",
      "---  ------        --------------  -----  \n",
      " 0   Brand         4345 non-null   object \n",
      " 1   Price         4173 non-null   float64\n",
      " 2   Body          4345 non-null   object \n",
      " 3   Mileage       4345 non-null   int64  \n",
      " 4   EngineV       4195 non-null   float64\n",
      " 5   Engine Type   4345 non-null   object \n",
      " 6   Registration  4345 non-null   object \n",
      " 7   Year          4345 non-null   int64  \n",
      " 8   Model         4345 non-null   object \n",
      "dtypes: float64(2), int64(2), object(5)\n",
      "memory usage: 305.6+ KB\n"
     ]
    }
   ],
   "source": [
    "car_df.info()"
   ]
  },
  {
   "cell_type": "code",
   "execution_count": 5,
   "id": "903b13df",
   "metadata": {},
   "outputs": [
    {
     "data": {
      "text/plain": [
       "Brand             0\n",
       "Price           172\n",
       "Body              0\n",
       "Mileage           0\n",
       "EngineV         150\n",
       "Engine Type       0\n",
       "Registration      0\n",
       "Year              0\n",
       "Model             0\n",
       "dtype: int64"
      ]
     },
     "execution_count": 5,
     "metadata": {},
     "output_type": "execute_result"
    }
   ],
   "source": [
    "car_df.isnull().sum()"
   ]
  },
  {
   "cell_type": "code",
   "execution_count": 6,
   "id": "eb91bb77",
   "metadata": {},
   "outputs": [
    {
     "data": {
      "text/html": [
       "<div>\n",
       "<style scoped>\n",
       "    .dataframe tbody tr th:only-of-type {\n",
       "        vertical-align: middle;\n",
       "    }\n",
       "\n",
       "    .dataframe tbody tr th {\n",
       "        vertical-align: top;\n",
       "    }\n",
       "\n",
       "    .dataframe thead th {\n",
       "        text-align: right;\n",
       "    }\n",
       "</style>\n",
       "<table border=\"1\" class=\"dataframe\">\n",
       "  <thead>\n",
       "    <tr style=\"text-align: right;\">\n",
       "      <th></th>\n",
       "      <th>Brand</th>\n",
       "      <th>Price</th>\n",
       "      <th>Body</th>\n",
       "      <th>Mileage</th>\n",
       "      <th>EngineV</th>\n",
       "      <th>Engine Type</th>\n",
       "      <th>Registration</th>\n",
       "      <th>Year</th>\n",
       "      <th>Model</th>\n",
       "    </tr>\n",
       "  </thead>\n",
       "  <tbody>\n",
       "    <tr>\n",
       "      <th>0</th>\n",
       "      <td>BMW</td>\n",
       "      <td>4200.0</td>\n",
       "      <td>sedan</td>\n",
       "      <td>277</td>\n",
       "      <td>2.0</td>\n",
       "      <td>Petrol</td>\n",
       "      <td>yes</td>\n",
       "      <td>1991</td>\n",
       "      <td>320</td>\n",
       "    </tr>\n",
       "    <tr>\n",
       "      <th>1</th>\n",
       "      <td>Mercedes-Benz</td>\n",
       "      <td>7900.0</td>\n",
       "      <td>van</td>\n",
       "      <td>427</td>\n",
       "      <td>2.9</td>\n",
       "      <td>Diesel</td>\n",
       "      <td>yes</td>\n",
       "      <td>1999</td>\n",
       "      <td>Sprinter 212</td>\n",
       "    </tr>\n",
       "    <tr>\n",
       "      <th>2</th>\n",
       "      <td>Mercedes-Benz</td>\n",
       "      <td>13300.0</td>\n",
       "      <td>sedan</td>\n",
       "      <td>358</td>\n",
       "      <td>5.0</td>\n",
       "      <td>Gas</td>\n",
       "      <td>yes</td>\n",
       "      <td>2003</td>\n",
       "      <td>S 500</td>\n",
       "    </tr>\n",
       "    <tr>\n",
       "      <th>3</th>\n",
       "      <td>Audi</td>\n",
       "      <td>23000.0</td>\n",
       "      <td>crossover</td>\n",
       "      <td>240</td>\n",
       "      <td>4.2</td>\n",
       "      <td>Petrol</td>\n",
       "      <td>yes</td>\n",
       "      <td>2007</td>\n",
       "      <td>Q7</td>\n",
       "    </tr>\n",
       "    <tr>\n",
       "      <th>4</th>\n",
       "      <td>Toyota</td>\n",
       "      <td>18300.0</td>\n",
       "      <td>crossover</td>\n",
       "      <td>120</td>\n",
       "      <td>2.0</td>\n",
       "      <td>Petrol</td>\n",
       "      <td>yes</td>\n",
       "      <td>2011</td>\n",
       "      <td>Rav 4</td>\n",
       "    </tr>\n",
       "  </tbody>\n",
       "</table>\n",
       "</div>"
      ],
      "text/plain": [
       "           Brand    Price       Body  Mileage  EngineV Engine Type  \\\n",
       "0            BMW   4200.0      sedan      277      2.0      Petrol   \n",
       "1  Mercedes-Benz   7900.0        van      427      2.9      Diesel   \n",
       "2  Mercedes-Benz  13300.0      sedan      358      5.0         Gas   \n",
       "3           Audi  23000.0  crossover      240      4.2      Petrol   \n",
       "4         Toyota  18300.0  crossover      120      2.0      Petrol   \n",
       "\n",
       "  Registration  Year         Model  \n",
       "0          yes  1991           320  \n",
       "1          yes  1999  Sprinter 212  \n",
       "2          yes  2003         S 500  \n",
       "3          yes  2007            Q7  \n",
       "4          yes  2011         Rav 4  "
      ]
     },
     "execution_count": 6,
     "metadata": {},
     "output_type": "execute_result"
    }
   ],
   "source": [
    "car_df = car_df.dropna()\n",
    "car_df.head()"
   ]
  },
  {
   "cell_type": "code",
   "execution_count": 7,
   "id": "ecc7a705",
   "metadata": {},
   "outputs": [
    {
     "data": {
      "text/plain": [
       "Brand           0\n",
       "Price           0\n",
       "Body            0\n",
       "Mileage         0\n",
       "EngineV         0\n",
       "Engine Type     0\n",
       "Registration    0\n",
       "Year            0\n",
       "Model           0\n",
       "dtype: int64"
      ]
     },
     "execution_count": 7,
     "metadata": {},
     "output_type": "execute_result"
    }
   ],
   "source": [
    "car_df.isnull().sum()"
   ]
  },
  {
   "cell_type": "code",
   "execution_count": 8,
   "id": "99bfb63a",
   "metadata": {},
   "outputs": [
    {
     "name": "stdout",
     "output_type": "stream",
     "text": [
      "<class 'pandas.core.frame.DataFrame'>\n",
      "Int64Index: 4025 entries, 0 to 4344\n",
      "Data columns (total 9 columns):\n",
      " #   Column        Non-Null Count  Dtype  \n",
      "---  ------        --------------  -----  \n",
      " 0   Brand         4025 non-null   object \n",
      " 1   Price         4025 non-null   float64\n",
      " 2   Body          4025 non-null   object \n",
      " 3   Mileage       4025 non-null   int64  \n",
      " 4   EngineV       4025 non-null   float64\n",
      " 5   Engine Type   4025 non-null   object \n",
      " 6   Registration  4025 non-null   object \n",
      " 7   Year          4025 non-null   int64  \n",
      " 8   Model         4025 non-null   object \n",
      "dtypes: float64(2), int64(2), object(5)\n",
      "memory usage: 314.5+ KB\n"
     ]
    }
   ],
   "source": [
    "car_df.info()"
   ]
  },
  {
   "cell_type": "code",
   "execution_count": 9,
   "id": "2574d65e",
   "metadata": {},
   "outputs": [
    {
     "data": {
      "text/html": [
       "<div>\n",
       "<style scoped>\n",
       "    .dataframe tbody tr th:only-of-type {\n",
       "        vertical-align: middle;\n",
       "    }\n",
       "\n",
       "    .dataframe tbody tr th {\n",
       "        vertical-align: top;\n",
       "    }\n",
       "\n",
       "    .dataframe thead th {\n",
       "        text-align: right;\n",
       "    }\n",
       "</style>\n",
       "<table border=\"1\" class=\"dataframe\">\n",
       "  <thead>\n",
       "    <tr style=\"text-align: right;\">\n",
       "      <th></th>\n",
       "      <th>Brand</th>\n",
       "      <th>Price</th>\n",
       "      <th>Body</th>\n",
       "      <th>Mileage</th>\n",
       "      <th>EngineV</th>\n",
       "      <th>Engine Type</th>\n",
       "      <th>Registration</th>\n",
       "      <th>Year</th>\n",
       "      <th>Model</th>\n",
       "      <th>Car Name</th>\n",
       "    </tr>\n",
       "  </thead>\n",
       "  <tbody>\n",
       "    <tr>\n",
       "      <th>0</th>\n",
       "      <td>BMW</td>\n",
       "      <td>4200.0</td>\n",
       "      <td>sedan</td>\n",
       "      <td>277</td>\n",
       "      <td>2.0</td>\n",
       "      <td>Petrol</td>\n",
       "      <td>yes</td>\n",
       "      <td>1991</td>\n",
       "      <td>320</td>\n",
       "      <td>BMW 320</td>\n",
       "    </tr>\n",
       "    <tr>\n",
       "      <th>1</th>\n",
       "      <td>Mercedes-Benz</td>\n",
       "      <td>7900.0</td>\n",
       "      <td>van</td>\n",
       "      <td>427</td>\n",
       "      <td>2.9</td>\n",
       "      <td>Diesel</td>\n",
       "      <td>yes</td>\n",
       "      <td>1999</td>\n",
       "      <td>Sprinter 212</td>\n",
       "      <td>Mercedes-Benz Sprinter 212</td>\n",
       "    </tr>\n",
       "    <tr>\n",
       "      <th>2</th>\n",
       "      <td>Mercedes-Benz</td>\n",
       "      <td>13300.0</td>\n",
       "      <td>sedan</td>\n",
       "      <td>358</td>\n",
       "      <td>5.0</td>\n",
       "      <td>Gas</td>\n",
       "      <td>yes</td>\n",
       "      <td>2003</td>\n",
       "      <td>S 500</td>\n",
       "      <td>Mercedes-Benz S 500</td>\n",
       "    </tr>\n",
       "    <tr>\n",
       "      <th>3</th>\n",
       "      <td>Audi</td>\n",
       "      <td>23000.0</td>\n",
       "      <td>crossover</td>\n",
       "      <td>240</td>\n",
       "      <td>4.2</td>\n",
       "      <td>Petrol</td>\n",
       "      <td>yes</td>\n",
       "      <td>2007</td>\n",
       "      <td>Q7</td>\n",
       "      <td>Audi Q7</td>\n",
       "    </tr>\n",
       "    <tr>\n",
       "      <th>4</th>\n",
       "      <td>Toyota</td>\n",
       "      <td>18300.0</td>\n",
       "      <td>crossover</td>\n",
       "      <td>120</td>\n",
       "      <td>2.0</td>\n",
       "      <td>Petrol</td>\n",
       "      <td>yes</td>\n",
       "      <td>2011</td>\n",
       "      <td>Rav 4</td>\n",
       "      <td>Toyota Rav 4</td>\n",
       "    </tr>\n",
       "  </tbody>\n",
       "</table>\n",
       "</div>"
      ],
      "text/plain": [
       "           Brand    Price       Body  Mileage  EngineV Engine Type  \\\n",
       "0            BMW   4200.0      sedan      277      2.0      Petrol   \n",
       "1  Mercedes-Benz   7900.0        van      427      2.9      Diesel   \n",
       "2  Mercedes-Benz  13300.0      sedan      358      5.0         Gas   \n",
       "3           Audi  23000.0  crossover      240      4.2      Petrol   \n",
       "4         Toyota  18300.0  crossover      120      2.0      Petrol   \n",
       "\n",
       "  Registration  Year         Model                    Car Name  \n",
       "0          yes  1991           320                     BMW 320  \n",
       "1          yes  1999  Sprinter 212  Mercedes-Benz Sprinter 212  \n",
       "2          yes  2003         S 500         Mercedes-Benz S 500  \n",
       "3          yes  2007            Q7                     Audi Q7  \n",
       "4          yes  2011         Rav 4                Toyota Rav 4  "
      ]
     },
     "execution_count": 9,
     "metadata": {},
     "output_type": "execute_result"
    }
   ],
   "source": [
    "car_df['Car Name'] = car_df['Brand'] + ' ' + car_df['Model']\n",
    "car_df.head()"
   ]
  },
  {
   "cell_type": "markdown",
   "id": "67ffb55f",
   "metadata": {},
   "source": [
    "### Exploratory Data Analysis (EDA)"
   ]
  },
  {
   "cell_type": "markdown",
   "id": "4f560300",
   "metadata": {},
   "source": [
    "#### Q1: Which is the most preferred brand?"
   ]
  },
  {
   "cell_type": "code",
   "execution_count": 10,
   "id": "1a83179f",
   "metadata": {},
   "outputs": [
    {
     "name": "stdout",
     "output_type": "stream",
     "text": [
      "Volkswagen is the most preferred brand\n"
     ]
    }
   ],
   "source": [
    "most_brand = car_df['Brand'].value_counts()\n",
    "print('{} is the most preferred brand'.format(most_brand.idxmax()))"
   ]
  },
  {
   "cell_type": "markdown",
   "id": "c6bff1ad",
   "metadata": {},
   "source": [
    "#### Q2: Top 10 cars sold at highest price? "
   ]
  },
  {
   "cell_type": "code",
   "execution_count": 11,
   "id": "bb91808f",
   "metadata": {},
   "outputs": [
    {
     "data": {
      "text/html": [
       "<div>\n",
       "<style scoped>\n",
       "    .dataframe tbody tr th:only-of-type {\n",
       "        vertical-align: middle;\n",
       "    }\n",
       "\n",
       "    .dataframe tbody tr th {\n",
       "        vertical-align: top;\n",
       "    }\n",
       "\n",
       "    .dataframe thead th {\n",
       "        text-align: right;\n",
       "    }\n",
       "</style>\n",
       "<table border=\"1\" class=\"dataframe\">\n",
       "  <thead>\n",
       "    <tr style=\"text-align: right;\">\n",
       "      <th></th>\n",
       "      <th>Brand</th>\n",
       "      <th>Price</th>\n",
       "      <th>Body</th>\n",
       "      <th>Mileage</th>\n",
       "      <th>EngineV</th>\n",
       "      <th>Engine Type</th>\n",
       "      <th>Registration</th>\n",
       "      <th>Year</th>\n",
       "      <th>Model</th>\n",
       "    </tr>\n",
       "    <tr>\n",
       "      <th>Car Name</th>\n",
       "      <th></th>\n",
       "      <th></th>\n",
       "      <th></th>\n",
       "      <th></th>\n",
       "      <th></th>\n",
       "      <th></th>\n",
       "      <th></th>\n",
       "      <th></th>\n",
       "      <th></th>\n",
       "    </tr>\n",
       "  </thead>\n",
       "  <tbody>\n",
       "    <tr>\n",
       "      <th>Mercedes-Benz S 600</th>\n",
       "      <td>Mercedes-Benz</td>\n",
       "      <td>300000.0</td>\n",
       "      <td>sedan</td>\n",
       "      <td>246</td>\n",
       "      <td>6.0</td>\n",
       "      <td>Petrol</td>\n",
       "      <td>yes</td>\n",
       "      <td>2011</td>\n",
       "      <td>S 600</td>\n",
       "    </tr>\n",
       "    <tr>\n",
       "      <th>Mercedes-Benz G 500</th>\n",
       "      <td>Mercedes-Benz</td>\n",
       "      <td>300000.0</td>\n",
       "      <td>other</td>\n",
       "      <td>254</td>\n",
       "      <td>5.5</td>\n",
       "      <td>Petrol</td>\n",
       "      <td>yes</td>\n",
       "      <td>2013</td>\n",
       "      <td>G 500</td>\n",
       "    </tr>\n",
       "    <tr>\n",
       "      <th>Mercedes-Benz S-Guard</th>\n",
       "      <td>Mercedes-Benz</td>\n",
       "      <td>295000.0</td>\n",
       "      <td>sedan</td>\n",
       "      <td>29</td>\n",
       "      <td>6.0</td>\n",
       "      <td>Petrol</td>\n",
       "      <td>yes</td>\n",
       "      <td>2011</td>\n",
       "      <td>S-Guard</td>\n",
       "    </tr>\n",
       "    <tr>\n",
       "      <th>Mercedes-Benz S 63 AMG</th>\n",
       "      <td>Mercedes-Benz</td>\n",
       "      <td>250000.0</td>\n",
       "      <td>sedan</td>\n",
       "      <td>95</td>\n",
       "      <td>6.3</td>\n",
       "      <td>Petrol</td>\n",
       "      <td>yes</td>\n",
       "      <td>2016</td>\n",
       "      <td>S 63 AMG</td>\n",
       "    </tr>\n",
       "    <tr>\n",
       "      <th>Mercedes-Benz G 63 AMG</th>\n",
       "      <td>Mercedes-Benz</td>\n",
       "      <td>219900.0</td>\n",
       "      <td>crossover</td>\n",
       "      <td>99</td>\n",
       "      <td>6.3</td>\n",
       "      <td>Petrol</td>\n",
       "      <td>yes</td>\n",
       "      <td>2016</td>\n",
       "      <td>G 63 AMG</td>\n",
       "    </tr>\n",
       "    <tr>\n",
       "      <th>Mercedes-Benz Sprinter 324</th>\n",
       "      <td>Mercedes-Benz</td>\n",
       "      <td>200000.0</td>\n",
       "      <td>van</td>\n",
       "      <td>19</td>\n",
       "      <td>3.5</td>\n",
       "      <td>Petrol</td>\n",
       "      <td>yes</td>\n",
       "      <td>2013</td>\n",
       "      <td>Sprinter 324</td>\n",
       "    </tr>\n",
       "    <tr>\n",
       "      <th>Mercedes-Benz GLS 63</th>\n",
       "      <td>Mercedes-Benz</td>\n",
       "      <td>199999.0</td>\n",
       "      <td>crossover</td>\n",
       "      <td>2</td>\n",
       "      <td>5.5</td>\n",
       "      <td>Petrol</td>\n",
       "      <td>yes</td>\n",
       "      <td>2016</td>\n",
       "      <td>GLS 63</td>\n",
       "    </tr>\n",
       "    <tr>\n",
       "      <th>Toyota Land Cruiser 200</th>\n",
       "      <td>Toyota</td>\n",
       "      <td>195000.0</td>\n",
       "      <td>other</td>\n",
       "      <td>810</td>\n",
       "      <td>5.7</td>\n",
       "      <td>Petrol</td>\n",
       "      <td>yes</td>\n",
       "      <td>2016</td>\n",
       "      <td>Land Cruiser 200</td>\n",
       "    </tr>\n",
       "    <tr>\n",
       "      <th>Mercedes-Benz S 500</th>\n",
       "      <td>Mercedes-Benz</td>\n",
       "      <td>189999.0</td>\n",
       "      <td>sedan</td>\n",
       "      <td>423</td>\n",
       "      <td>6.2</td>\n",
       "      <td>Petrol</td>\n",
       "      <td>yes</td>\n",
       "      <td>2016</td>\n",
       "      <td>S 500</td>\n",
       "    </tr>\n",
       "    <tr>\n",
       "      <th>Mercedes-Benz S 400</th>\n",
       "      <td>Mercedes-Benz</td>\n",
       "      <td>173333.0</td>\n",
       "      <td>sedan</td>\n",
       "      <td>250</td>\n",
       "      <td>4.0</td>\n",
       "      <td>Petrol</td>\n",
       "      <td>yes</td>\n",
       "      <td>2016</td>\n",
       "      <td>S 400</td>\n",
       "    </tr>\n",
       "  </tbody>\n",
       "</table>\n",
       "</div>"
      ],
      "text/plain": [
       "                                    Brand     Price       Body  Mileage  \\\n",
       "Car Name                                                                  \n",
       "Mercedes-Benz S 600         Mercedes-Benz  300000.0      sedan      246   \n",
       "Mercedes-Benz G 500         Mercedes-Benz  300000.0      other      254   \n",
       "Mercedes-Benz S-Guard       Mercedes-Benz  295000.0      sedan       29   \n",
       "Mercedes-Benz S 63 AMG      Mercedes-Benz  250000.0      sedan       95   \n",
       "Mercedes-Benz G 63 AMG      Mercedes-Benz  219900.0  crossover       99   \n",
       "Mercedes-Benz Sprinter 324  Mercedes-Benz  200000.0        van       19   \n",
       "Mercedes-Benz GLS 63        Mercedes-Benz  199999.0  crossover        2   \n",
       "Toyota Land Cruiser 200            Toyota  195000.0      other      810   \n",
       "Mercedes-Benz S 500         Mercedes-Benz  189999.0      sedan      423   \n",
       "Mercedes-Benz S 400         Mercedes-Benz  173333.0      sedan      250   \n",
       "\n",
       "                            EngineV Engine Type Registration  Year  \\\n",
       "Car Name                                                             \n",
       "Mercedes-Benz S 600             6.0      Petrol          yes  2011   \n",
       "Mercedes-Benz G 500             5.5      Petrol          yes  2013   \n",
       "Mercedes-Benz S-Guard           6.0      Petrol          yes  2011   \n",
       "Mercedes-Benz S 63 AMG          6.3      Petrol          yes  2016   \n",
       "Mercedes-Benz G 63 AMG          6.3      Petrol          yes  2016   \n",
       "Mercedes-Benz Sprinter 324      3.5      Petrol          yes  2013   \n",
       "Mercedes-Benz GLS 63            5.5      Petrol          yes  2016   \n",
       "Toyota Land Cruiser 200         5.7      Petrol          yes  2016   \n",
       "Mercedes-Benz S 500             6.2      Petrol          yes  2016   \n",
       "Mercedes-Benz S 400             4.0      Petrol          yes  2016   \n",
       "\n",
       "                                       Model  \n",
       "Car Name                                      \n",
       "Mercedes-Benz S 600                    S 600  \n",
       "Mercedes-Benz G 500                    G 500  \n",
       "Mercedes-Benz S-Guard                S-Guard  \n",
       "Mercedes-Benz S 63 AMG              S 63 AMG  \n",
       "Mercedes-Benz G 63 AMG              G 63 AMG  \n",
       "Mercedes-Benz Sprinter 324      Sprinter 324  \n",
       "Mercedes-Benz GLS 63                  GLS 63  \n",
       "Toyota Land Cruiser 200     Land Cruiser 200  \n",
       "Mercedes-Benz S 500                    S 500  \n",
       "Mercedes-Benz S 400                    S 400  "
      ]
     },
     "execution_count": 11,
     "metadata": {},
     "output_type": "execute_result"
    }
   ],
   "source": [
    "top_car = car_df.groupby('Car Name').max().sort_values('Price', ascending=False)\n",
    "top_car = top_car[:10]\n",
    "top_car"
   ]
  },
  {
   "cell_type": "code",
   "execution_count": 12,
   "id": "c2e26a09",
   "metadata": {},
   "outputs": [
    {
     "data": {
      "image/png": "[encoded data removed]",
      "text/plain": [
       "<Figure size 720x432 with 1 Axes>"
      ]
     },
     "metadata": {},
     "output_type": "display_data"
    }
   ],
   "source": [
    "plt.figure(figsize=(10,6))\n",
    "plt.bar(top_car.index, top_car.Price)\n",
    "plt.xticks(rotation = 90)\n",
    "plt.title('Top 10 cars sold at highest price', fontweight='bold')\n",
    "plt.xlabel('Car Name')\n",
    "plt.ylabel('Price (In dollars)')\n",
    "plt.show()"
   ]
  },
  {
   "cell_type": "markdown",
   "id": "5c4c2674",
   "metadata": {},
   "source": [
    "#### Q3: Which is the highest selling car?"
   ]
  },
  {
   "cell_type": "code",
   "execution_count": 13,
   "id": "43dc299a",
   "metadata": {},
   "outputs": [],
   "source": [
    "high_car = car_df['Car Name'].value_counts()\n",
    "high_sell = high_car.idxmax()\n",
    "sell = high_car.max()"
   ]
  },
  {
   "cell_type": "code",
   "execution_count": 14,
   "id": "53eb899e",
   "metadata": {},
   "outputs": [
    {
     "name": "stdout",
     "output_type": "stream",
     "text": [
      "Mercedes-Benz E-Class is the highest selling car with 188 sales\n"
     ]
    }
   ],
   "source": [
    "print('{} is the highest selling car with {} sales'.format(high_sell,sell))"
   ]
  },
  {
   "cell_type": "markdown",
   "id": "38114783",
   "metadata": {},
   "source": [
    "#### Q4: Which year has maximum sales of car?"
   ]
  },
  {
   "cell_type": "code",
   "execution_count": 18,
   "id": "882b3299",
   "metadata": {},
   "outputs": [
    {
     "name": "stdout",
     "output_type": "stream",
     "text": [
      "Maximum cars sold in 2008\n"
     ]
    }
   ],
   "source": [
    "max_year = car_df['Year'].value_counts()\n",
    "print('Maximum cars sold in {}'.format(max_year.idxmax()))"
   ]
  },
  {
   "cell_type": "markdown",
   "id": "7f0415c9",
   "metadata": {},
   "source": [
    "#### Q5: Distribution of total sales of each brand?"
   ]
  },
  {
   "cell_type": "code",
   "execution_count": 15,
   "id": "614373aa",
   "metadata": {},
   "outputs": [
    {
     "data": {
      "text/html": [
       "<div>\n",
       "<style scoped>\n",
       "    .dataframe tbody tr th:only-of-type {\n",
       "        vertical-align: middle;\n",
       "    }\n",
       "\n",
       "    .dataframe tbody tr th {\n",
       "        vertical-align: top;\n",
       "    }\n",
       "\n",
       "    .dataframe thead th {\n",
       "        text-align: right;\n",
       "    }\n",
       "</style>\n",
       "<table border=\"1\" class=\"dataframe\">\n",
       "  <thead>\n",
       "    <tr style=\"text-align: right;\">\n",
       "      <th></th>\n",
       "      <th>Price</th>\n",
       "    </tr>\n",
       "    <tr>\n",
       "      <th>Brand</th>\n",
       "      <th></th>\n",
       "    </tr>\n",
       "  </thead>\n",
       "  <tbody>\n",
       "    <tr>\n",
       "      <th>Audi</th>\n",
       "      <td>7940770.00</td>\n",
       "    </tr>\n",
       "    <tr>\n",
       "      <th>BMW</th>\n",
       "      <td>15134836.25</td>\n",
       "    </tr>\n",
       "    <tr>\n",
       "      <th>Mercedes-Benz</th>\n",
       "      <td>25369636.00</td>\n",
       "    </tr>\n",
       "    <tr>\n",
       "      <th>Mitsubishi</th>\n",
       "      <td>3500830.30</td>\n",
       "    </tr>\n",
       "    <tr>\n",
       "      <th>Renault</th>\n",
       "      <td>3589669.92</td>\n",
       "    </tr>\n",
       "    <tr>\n",
       "      <th>Toyota</th>\n",
       "      <td>11614109.21</td>\n",
       "    </tr>\n",
       "    <tr>\n",
       "      <th>Volkswagen</th>\n",
       "      <td>11548188.28</td>\n",
       "    </tr>\n",
       "  </tbody>\n",
       "</table>\n",
       "</div>"
      ],
      "text/plain": [
       "                     Price\n",
       "Brand                     \n",
       "Audi            7940770.00\n",
       "BMW            15134836.25\n",
       "Mercedes-Benz  25369636.00\n",
       "Mitsubishi      3500830.30\n",
       "Renault         3589669.92\n",
       "Toyota         11614109.21\n",
       "Volkswagen     11548188.28"
      ]
     },
     "execution_count": 15,
     "metadata": {},
     "output_type": "execute_result"
    }
   ],
   "source": [
    "total_brand = car_df.groupby(['Brand'])[['Price']].sum()\n",
    "total_brand"
   ]
  },
  {
   "cell_type": "code",
   "execution_count": 16,
   "id": "74645a24",
   "metadata": {},
   "outputs": [
    {
     "data": {
      "image/png": "[encoded data removed]",
      "text/plain": [
       "<Figure size 720x432 with 1 Axes>"
      ]
     },
     "metadata": {},
     "output_type": "display_data"
    }
   ],
   "source": [
    "plt.figure(figsize=(10,6))\n",
    "colors = ['blue','red','green','yellow','black','purple','orange']\n",
    "plt.bar(total_brand.index, total_brand.Price, color=colors)\n",
    "plt.ylabel('Price ($)')\n",
    "plt.xlabel('Brand')\n",
    "plt.show()"
   ]
  },
  {
   "cell_type": "markdown",
   "id": "ce725344",
   "metadata": {},
   "source": [
    "#### Q6: How many BMW cars were sold in year 2008? "
   ]
  },
  {
   "cell_type": "code",
   "execution_count": 17,
   "id": "f3b7cda0",
   "metadata": {},
   "outputs": [
    {
     "name": "stdout",
     "output_type": "stream",
     "text": [
      "Total 35 BMW cars are sold in 2008\n"
     ]
    }
   ],
   "source": [
    "bmw_car = car_df[(car_df['Brand'] == 'BMW') & (car_df['Year'] == 2008)]['Car Name'].count()\n",
    "print('Total {} BMW cars are sold in 2008'.format(bmw_car))"
   ]
  },
  {
   "cell_type": "markdown",
   "id": "f82c75d4",
   "metadata": {},
   "source": [
    "#### Q7: In which year maximum Audi cars are sold? "
   ]
  },
  {
   "cell_type": "code",
   "execution_count": 18,
   "id": "cee189c5",
   "metadata": {},
   "outputs": [
    {
     "name": "stdout",
     "output_type": "stream",
     "text": [
      "The maximum Audi cars are sold in 2007 with total 28 sales\n"
     ]
    }
   ],
   "source": [
    "audi_car = car_df[car_df['Brand'] == 'Audi']\n",
    "max_audi_year = audi_car.groupby('Year')['Car Name'].count()\n",
    "print(\"The maximum Audi cars are sold in {} with total {} sales\".format(max_audi_year.idxmax(), max_audi_year.max()))"
   ]
  },
  {
   "cell_type": "markdown",
   "id": "c82b777f",
   "metadata": {},
   "source": [
    "#### Q8: How many cars are sold of each body type? "
   ]
  },
  {
   "cell_type": "code",
   "execution_count": 19,
   "id": "5c5a5093",
   "metadata": {},
   "outputs": [
    {
     "data": {
      "image/png": "[encoded data removed]",
      "text/plain": [
       "<Figure size 720x432 with 1 Axes>"
      ]
     },
     "metadata": {},
     "output_type": "display_data"
    }
   ],
   "source": [
    "plt.figure(figsize=(10,6))\n",
    "sns.countplot(x='Body', data=car_df)\n",
    "plt.title('No of cars sold of each body type', fontweight='bold')\n",
    "plt.xlabel('Body Type')\n",
    "plt.ylabel('No of cars')\n",
    "plt.show()"
   ]
  },
  {
   "cell_type": "markdown",
   "id": "7e55bc36",
   "metadata": {},
   "source": [
    "#### Q9: Total number of registered cars? "
   ]
  },
  {
   "cell_type": "code",
   "execution_count": 20,
   "id": "271a8632",
   "metadata": {},
   "outputs": [
    {
     "name": "stdout",
     "output_type": "stream",
     "text": [
      "Total 3654 cars are registered\n"
     ]
    }
   ],
   "source": [
    "register_cars = car_df[car_df['Registration'] == 'yes']['Car Name'].count()\n",
    "print('Total {} cars are registered'.format(register_cars))"
   ]
  },
  {
   "cell_type": "markdown",
   "id": "857bdac2",
   "metadata": {},
   "source": [
    "#### Q10: How many registered cars are sold of body type crossover? "
   ]
  },
  {
   "cell_type": "code",
   "execution_count": 21,
   "id": "0970e7f0",
   "metadata": {},
   "outputs": [
    {
     "name": "stdout",
     "output_type": "stream",
     "text": [
      "Total 824 cars are sold of body type crossover of which 795 are registered\n"
     ]
    }
   ],
   "source": [
    "body_cross = car_df[car_df['Body'] == 'crossover']['Car Name'].count()\n",
    "reg_cross = car_df[(car_df['Body'] == 'crossover') & (car_df['Registration'] == 'yes')]['Car Name'].count()\n",
    "print('Total {} cars are sold of body type crossover of which {} are registered'.format(body_cross, reg_cross))"
   ]
  },
  {
   "cell_type": "markdown",
   "id": "fbf67d6b",
   "metadata": {},
   "source": [
    "#### Q11: How many registered cars are sold of body type sedan?"
   ]
  },
  {
   "cell_type": "code",
   "execution_count": 22,
   "id": "db30e055",
   "metadata": {},
   "outputs": [
    {
     "name": "stdout",
     "output_type": "stream",
     "text": [
      "Total 1534 cars are sold of body type sedan of which 1360 are registered\n"
     ]
    }
   ],
   "source": [
    "body_sedan = car_df[car_df['Body'] == 'sedan']['Car Name'].count()\n",
    "reg_sedan = car_df[(car_df['Body'] == 'sedan') & (car_df['Registration'] == 'yes')]['Car Name'].count()\n",
    "print('Total {} cars are sold of body type sedan of which {} are registered'.format(body_sedan, reg_sedan))"
   ]
  },
  {
   "cell_type": "markdown",
   "id": "70dcbd60",
   "metadata": {},
   "source": [
    "#### Q12: Top 10 cars sold at highest price of body type sedan? "
   ]
  },
  {
   "cell_type": "code",
   "execution_count": 23,
   "id": "6f766797",
   "metadata": {},
   "outputs": [
    {
     "data": {
      "text/html": [
       "<div>\n",
       "<style scoped>\n",
       "    .dataframe tbody tr th:only-of-type {\n",
       "        vertical-align: middle;\n",
       "    }\n",
       "\n",
       "    .dataframe tbody tr th {\n",
       "        vertical-align: top;\n",
       "    }\n",
       "\n",
       "    .dataframe thead th {\n",
       "        text-align: right;\n",
       "    }\n",
       "</style>\n",
       "<table border=\"1\" class=\"dataframe\">\n",
       "  <thead>\n",
       "    <tr style=\"text-align: right;\">\n",
       "      <th></th>\n",
       "      <th>Brand</th>\n",
       "      <th>Price</th>\n",
       "      <th>Body</th>\n",
       "      <th>Mileage</th>\n",
       "      <th>EngineV</th>\n",
       "      <th>Engine Type</th>\n",
       "      <th>Registration</th>\n",
       "      <th>Year</th>\n",
       "      <th>Model</th>\n",
       "    </tr>\n",
       "    <tr>\n",
       "      <th>Car Name</th>\n",
       "      <th></th>\n",
       "      <th></th>\n",
       "      <th></th>\n",
       "      <th></th>\n",
       "      <th></th>\n",
       "      <th></th>\n",
       "      <th></th>\n",
       "      <th></th>\n",
       "      <th></th>\n",
       "    </tr>\n",
       "  </thead>\n",
       "  <tbody>\n",
       "    <tr>\n",
       "      <th>Mercedes-Benz S 600</th>\n",
       "      <td>Mercedes-Benz</td>\n",
       "      <td>300000.0</td>\n",
       "      <td>sedan</td>\n",
       "      <td>246</td>\n",
       "      <td>6.0</td>\n",
       "      <td>Petrol</td>\n",
       "      <td>yes</td>\n",
       "      <td>2011</td>\n",
       "      <td>S 600</td>\n",
       "    </tr>\n",
       "    <tr>\n",
       "      <th>Mercedes-Benz S-Guard</th>\n",
       "      <td>Mercedes-Benz</td>\n",
       "      <td>295000.0</td>\n",
       "      <td>sedan</td>\n",
       "      <td>29</td>\n",
       "      <td>6.0</td>\n",
       "      <td>Petrol</td>\n",
       "      <td>yes</td>\n",
       "      <td>2011</td>\n",
       "      <td>S-Guard</td>\n",
       "    </tr>\n",
       "    <tr>\n",
       "      <th>Mercedes-Benz S 350</th>\n",
       "      <td>Mercedes-Benz</td>\n",
       "      <td>144900.0</td>\n",
       "      <td>sedan</td>\n",
       "      <td>280</td>\n",
       "      <td>3.8</td>\n",
       "      <td>Petrol</td>\n",
       "      <td>yes</td>\n",
       "      <td>2015</td>\n",
       "      <td>S 350</td>\n",
       "    </tr>\n",
       "    <tr>\n",
       "      <th>Mercedes-Benz S 500</th>\n",
       "      <td>Mercedes-Benz</td>\n",
       "      <td>135555.0</td>\n",
       "      <td>sedan</td>\n",
       "      <td>423</td>\n",
       "      <td>6.2</td>\n",
       "      <td>Petrol</td>\n",
       "      <td>yes</td>\n",
       "      <td>2015</td>\n",
       "      <td>S 500</td>\n",
       "    </tr>\n",
       "    <tr>\n",
       "      <th>BMW 750</th>\n",
       "      <td>BMW</td>\n",
       "      <td>129222.0</td>\n",
       "      <td>sedan</td>\n",
       "      <td>386</td>\n",
       "      <td>5.0</td>\n",
       "      <td>Petrol</td>\n",
       "      <td>yes</td>\n",
       "      <td>2016</td>\n",
       "      <td>750</td>\n",
       "    </tr>\n",
       "    <tr>\n",
       "      <th>BMW 730</th>\n",
       "      <td>BMW</td>\n",
       "      <td>112000.0</td>\n",
       "      <td>sedan</td>\n",
       "      <td>448</td>\n",
       "      <td>3.0</td>\n",
       "      <td>Petrol</td>\n",
       "      <td>yes</td>\n",
       "      <td>2015</td>\n",
       "      <td>730</td>\n",
       "    </tr>\n",
       "    <tr>\n",
       "      <th>Mercedes-Benz CLS 400</th>\n",
       "      <td>Mercedes-Benz</td>\n",
       "      <td>99000.0</td>\n",
       "      <td>sedan</td>\n",
       "      <td>0</td>\n",
       "      <td>3.0</td>\n",
       "      <td>Petrol</td>\n",
       "      <td>yes</td>\n",
       "      <td>2016</td>\n",
       "      <td>CLS 400</td>\n",
       "    </tr>\n",
       "    <tr>\n",
       "      <th>Audi A8</th>\n",
       "      <td>Audi</td>\n",
       "      <td>90999.0</td>\n",
       "      <td>sedan</td>\n",
       "      <td>374</td>\n",
       "      <td>6.3</td>\n",
       "      <td>Petrol</td>\n",
       "      <td>yes</td>\n",
       "      <td>2015</td>\n",
       "      <td>A8</td>\n",
       "    </tr>\n",
       "    <tr>\n",
       "      <th>BMW 6 Series Gran Coupe</th>\n",
       "      <td>BMW</td>\n",
       "      <td>85555.0</td>\n",
       "      <td>sedan</td>\n",
       "      <td>10</td>\n",
       "      <td>3.0</td>\n",
       "      <td>Other</td>\n",
       "      <td>yes</td>\n",
       "      <td>2015</td>\n",
       "      <td>6 Series Gran Coupe</td>\n",
       "    </tr>\n",
       "    <tr>\n",
       "      <th>BMW 640</th>\n",
       "      <td>BMW</td>\n",
       "      <td>85555.0</td>\n",
       "      <td>sedan</td>\n",
       "      <td>15</td>\n",
       "      <td>3.0</td>\n",
       "      <td>Petrol</td>\n",
       "      <td>yes</td>\n",
       "      <td>2015</td>\n",
       "      <td>640</td>\n",
       "    </tr>\n",
       "  </tbody>\n",
       "</table>\n",
       "</div>"
      ],
      "text/plain": [
       "                                 Brand     Price   Body  Mileage  EngineV  \\\n",
       "Car Name                                                                    \n",
       "Mercedes-Benz S 600      Mercedes-Benz  300000.0  sedan      246      6.0   \n",
       "Mercedes-Benz S-Guard    Mercedes-Benz  295000.0  sedan       29      6.0   \n",
       "Mercedes-Benz S 350      Mercedes-Benz  144900.0  sedan      280      3.8   \n",
       "Mercedes-Benz S 500      Mercedes-Benz  135555.0  sedan      423      6.2   \n",
       "BMW 750                            BMW  129222.0  sedan      386      5.0   \n",
       "BMW 730                            BMW  112000.0  sedan      448      3.0   \n",
       "Mercedes-Benz CLS 400    Mercedes-Benz   99000.0  sedan        0      3.0   \n",
       "Audi A8                           Audi   90999.0  sedan      374      6.3   \n",
       "BMW 6 Series Gran Coupe            BMW   85555.0  sedan       10      3.0   \n",
       "BMW 640                            BMW   85555.0  sedan       15      3.0   \n",
       "\n",
       "                        Engine Type Registration  Year                Model  \n",
       "Car Name                                                                     \n",
       "Mercedes-Benz S 600          Petrol          yes  2011                S 600  \n",
       "Mercedes-Benz S-Guard        Petrol          yes  2011              S-Guard  \n",
       "Mercedes-Benz S 350          Petrol          yes  2015                S 350  \n",
       "Mercedes-Benz S 500          Petrol          yes  2015                S 500  \n",
       "BMW 750                      Petrol          yes  2016                  750  \n",
       "BMW 730                      Petrol          yes  2015                  730  \n",
       "Mercedes-Benz CLS 400        Petrol          yes  2016              CLS 400  \n",
       "Audi A8                      Petrol          yes  2015                   A8  \n",
       "BMW 6 Series Gran Coupe       Other          yes  2015  6 Series Gran Coupe  \n",
       "BMW 640                      Petrol          yes  2015                  640  "
      ]
     },
     "execution_count": 23,
     "metadata": {},
     "output_type": "execute_result"
    }
   ],
   "source": [
    "car_sedan = car_df[car_df['Body'] == 'sedan']\n",
    "top_body_sedan = car_sedan.groupby('Car Name').max().sort_values('Price', ascending=False)\n",
    "top_body_sedan = top_body_sedan[:10]\n",
    "top_body_sedan"
   ]
  },
  {
   "cell_type": "code",
   "execution_count": 24,
   "id": "28ab71ea",
   "metadata": {},
   "outputs": [
    {
     "data": {
      "image/png": "[encoded data removed]",
      "text/plain": [
       "<Figure size 720x432 with 1 Axes>"
      ]
     },
     "metadata": {},
     "output_type": "display_data"
    }
   ],
   "source": [
    "plt.figure(figsize=(10,6))\n",
    "plt.bar(top_body_sedan.index, top_body_sedan.Price, color='g')\n",
    "plt.title('Top 10 cars sold at highest price of body type sedan', fontweight='bold')\n",
    "plt.xlabel('Car Name')\n",
    "plt.ylabel('Price ($)')\n",
    "plt.xticks(rotation=90)\n",
    "plt.show()"
   ]
  },
  {
   "cell_type": "markdown",
   "id": "11509e14",
   "metadata": {},
   "source": [
    "#### Q13: Which Engine type is most preferred? "
   ]
  },
  {
   "cell_type": "code",
   "execution_count": 25,
   "id": "be8323f7",
   "metadata": {},
   "outputs": [
    {
     "name": "stdout",
     "output_type": "stream",
     "text": [
      "The most preferred engine type is Diesel\n"
     ]
    }
   ],
   "source": [
    "val_eng = car_df['Engine Type'].value_counts()\n",
    "max_engine = val_eng.idxmax()\n",
    "print(\"The most preferred engine type is {}\".format(max_engine))"
   ]
  },
  {
   "cell_type": "markdown",
   "id": "abaf5792",
   "metadata": {},
   "source": [
    "#### Q14: How many registered cars are sold of engine type petrol? "
   ]
  },
  {
   "cell_type": "code",
   "execution_count": 26,
   "id": "a3e83e5d",
   "metadata": {},
   "outputs": [
    {
     "name": "stdout",
     "output_type": "stream",
     "text": [
      "Total 1468 cars are sold of engine type petrol of which 1393 are registered\n"
     ]
    }
   ],
   "source": [
    "eng_petrol = car_df[car_df['Engine Type'] == 'Petrol']['Car Name'].count()\n",
    "reg_petrol = car_df[(car_df['Engine Type'] == 'Petrol') & (car_df['Registration'] == 'yes')]['Car Name'].count()\n",
    "print('Total {} cars are sold of engine type petrol of which {} are registered'.format(eng_petrol, reg_petrol))"
   ]
  },
  {
   "cell_type": "markdown",
   "id": "54af546c",
   "metadata": {},
   "source": [
    "#### Q15: On which Price Range, most of the cars are sold?"
   ]
  },
  {
   "cell_type": "code",
   "execution_count": 27,
   "id": "0d84cffa",
   "metadata": {},
   "outputs": [
    {
     "data": {
      "text/html": [
       "<div>\n",
       "<style scoped>\n",
       "    .dataframe tbody tr th:only-of-type {\n",
       "        vertical-align: middle;\n",
       "    }\n",
       "\n",
       "    .dataframe tbody tr th {\n",
       "        vertical-align: top;\n",
       "    }\n",
       "\n",
       "    .dataframe thead th {\n",
       "        text-align: right;\n",
       "    }\n",
       "</style>\n",
       "<table border=\"1\" class=\"dataframe\">\n",
       "  <thead>\n",
       "    <tr style=\"text-align: right;\">\n",
       "      <th></th>\n",
       "      <th>Car Name</th>\n",
       "    </tr>\n",
       "    <tr>\n",
       "      <th>Price</th>\n",
       "      <th></th>\n",
       "    </tr>\n",
       "  </thead>\n",
       "  <tbody>\n",
       "    <tr>\n",
       "      <th>6500.0</th>\n",
       "      <td>40</td>\n",
       "    </tr>\n",
       "    <tr>\n",
       "      <th>8500.0</th>\n",
       "      <td>37</td>\n",
       "    </tr>\n",
       "    <tr>\n",
       "      <th>10500.0</th>\n",
       "      <td>35</td>\n",
       "    </tr>\n",
       "    <tr>\n",
       "      <th>9500.0</th>\n",
       "      <td>34</td>\n",
       "    </tr>\n",
       "    <tr>\n",
       "      <th>7500.0</th>\n",
       "      <td>34</td>\n",
       "    </tr>\n",
       "    <tr>\n",
       "      <th>...</th>\n",
       "      <td>...</td>\n",
       "    </tr>\n",
       "    <tr>\n",
       "      <th>31800.0</th>\n",
       "      <td>1</td>\n",
       "    </tr>\n",
       "    <tr>\n",
       "      <th>31700.0</th>\n",
       "      <td>1</td>\n",
       "    </tr>\n",
       "    <tr>\n",
       "      <th>31600.0</th>\n",
       "      <td>1</td>\n",
       "    </tr>\n",
       "    <tr>\n",
       "      <th>31310.0</th>\n",
       "      <td>1</td>\n",
       "    </tr>\n",
       "    <tr>\n",
       "      <th>39615.0</th>\n",
       "      <td>1</td>\n",
       "    </tr>\n",
       "  </tbody>\n",
       "</table>\n",
       "<p>892 rows × 1 columns</p>\n",
       "</div>"
      ],
      "text/plain": [
       "         Car Name\n",
       "Price            \n",
       "6500.0         40\n",
       "8500.0         37\n",
       "10500.0        35\n",
       "9500.0         34\n",
       "7500.0         34\n",
       "...           ...\n",
       "31800.0         1\n",
       "31700.0         1\n",
       "31600.0         1\n",
       "31310.0         1\n",
       "39615.0         1\n",
       "\n",
       "[892 rows x 1 columns]"
      ]
     },
     "execution_count": 27,
     "metadata": {},
     "output_type": "execute_result"
    }
   ],
   "source": [
    "price_range = car_df.groupby('Price')[['Car Name']].count()\n",
    "price_range.sort_values('Car Name', ascending=False)"
   ]
  },
  {
   "cell_type": "code",
   "execution_count": 28,
   "id": "cceba765",
   "metadata": {},
   "outputs": [
    {
     "data": {
      "image/png": "[encoded data removed]",
      "text/plain": [
       "<Figure size 720x432 with 1 Axes>"
      ]
     },
     "metadata": {},
     "output_type": "display_data"
    }
   ],
   "source": [
    "plt.figure(figsize=(10,6))\n",
    "sns.scatterplot(x = price_range['Car Name'], y = price_range.index)\n",
    "plt.title('Price Range Distribution', fontweight='bold')\n",
    "plt.xlabel('No of cars')\n",
    "plt.ylabel('Price Range (in dollars)')\n",
    "plt.show()"
   ]
  },
  {
   "cell_type": "markdown",
   "id": "6bc8c6c3",
   "metadata": {},
   "source": [
    "As it can be obtained from the above graph that, most of the cars are sold at price below $50000"
   ]
  },
  {
   "cell_type": "markdown",
   "id": "38a7fe94",
   "metadata": {},
   "source": [
    "#### Q16: Is there any relationship between Price and Mileage?"
   ]
  },
  {
   "cell_type": "code",
   "execution_count": 29,
   "id": "f0ff10a3",
   "metadata": {},
   "outputs": [
    {
     "data": {
      "image/png": "[encoded data removed]",
      "text/plain": [
       "<Figure size 720x432 with 1 Axes>"
      ]
     },
     "metadata": {},
     "output_type": "display_data"
    }
   ],
   "source": [
    "plt.figure(figsize=(10,6))\n",
    "sns.scatterplot(x = car_df.Price, y= car_df.Mileage)\n",
    "plt.title('Price VS Mileage', fontweight = 'bold')\n",
    "plt.xlabel('Price (in dollars)')\n",
    "plt.ylabel('Mileage')\n",
    "plt.show()"
   ]
  },
  {
   "cell_type": "markdown",
   "id": "c738a906",
   "metadata": {},
   "source": [
    "As we can observe there is a negative relation between the Price and Mileage of the car.\n",
    "\n",
    "Most of the cars of lower price range (below 100000 dollars) has higher mileage and cars with higher price range (above 150000 dollars) has lower mileage.\n",
    "\n"
   ]
  },
  {
   "cell_type": "markdown",
   "id": "cae085e5",
   "metadata": {},
   "source": [
    "#### Q17: Relationship between Price and Year?"
   ]
  },
  {
   "cell_type": "code",
   "execution_count": 30,
   "id": "d8283a26",
   "metadata": {},
   "outputs": [
    {
     "data": {
      "image/png": "[encoded data removed]",
      "text/plain": [
       "<Figure size 720x432 with 1 Axes>"
      ]
     },
     "metadata": {},
     "output_type": "display_data"
    }
   ],
   "source": [
    "plt.figure(figsize=(10,6))\n",
    "sns.scatterplot(x=car_df.Year, y=car_df.Price)\n",
    "plt.title('Price vs Year', fontweight='bold')\n",
    "plt.xlabel('Year')\n",
    "plt.ylabel('Price ($)')\n",
    "plt.show()"
   ]
  },
  {
   "cell_type": "markdown",
   "id": "036fe977",
   "metadata": {},
   "source": [
    "It can be observed that as the year increases price also increases."
   ]
  },
  {
   "cell_type": "markdown",
   "id": "d0ef5b66",
   "metadata": {},
   "source": [
    "### Inferences and Conclusion"
   ]
  },
  {
   "cell_type": "markdown",
   "id": "5e3222f2",
   "metadata": {},
   "source": [
    "#### From the above analysis and visualizations, we can conclude that:\n",
    "     •\tThe largest number of cars were sold in 2008\n",
    "     •\tMost of the cars that sold at highest price are of brand Mercedes-Benz.\n",
    "     •\tMost cars have diesel as its fuel.\n",
    "     •\tBody type ‘sedan’ has the most number of count whereas ‘hatch’ has the least. Crossover was found to be second \n",
    "         favorite body type.\n",
    "     •\tAlthough Volkswagen is the most preferred brand the highest selling i.e., the car sold at maximum times is of \n",
    "         Mercedes-Benz.\n",
    "   "
   ]
  }
 ],
 "metadata": {
  "kernelspec": {
   "display_name": "Python 3 (ipykernel)",
   "language": "python",
   "name": "python3"
  },
  "language_info": {
   "codemirror_mode": {
    "name": "ipython",
    "version": 3
   },
   "file_extension": ".py",
   "mimetype": "text/x-python",
   "name": "python",
   "nbconvert_exporter": "python",
   "pygments_lexer": "ipython3",
   "version": "3.9.7"
  }
 },
 "nbformat": 4,
 "nbformat_minor": 5
}
